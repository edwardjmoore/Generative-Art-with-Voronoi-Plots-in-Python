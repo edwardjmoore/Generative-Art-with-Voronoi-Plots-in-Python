{
 "cells": [
  {
   "cell_type": "code",
   "execution_count": 8,
   "metadata": {},
   "outputs": [
    {
     "name": "stdout",
     "output_type": "stream",
     "text": [
      "Enabling notebook extension jupyter-js-widgets/extension...\n",
      "      - Validating: \u001b[32mOK\u001b[0m\n",
      "Building jupyterlab assets (production, minimized)\n"
     ]
    }
   ],
   "source": [
    "import random\n",
    "import numpy as np\n",
    "from scipy.spatial import Voronoi, voronoi_plot_2d\n",
    "\n",
    "!jupyter nbextension enable --py widgetsnbextension\n",
    "!jupyter labextension install @jupyter-widgets/jupyterlab-manager\n",
    "\n",
    "import matplotlib.pyplot as plt\n",
    "from matplotlib.collections import LineCollection\n",
    "from matplotlib import colors as cc\n",
    "\n",
    "from ipywidgets import widgets\n",
    "from ipywidgets import interact, interact_manual, interactive"
   ]
  },
  {
   "cell_type": "code",
   "execution_count": 2,
   "metadata": {},
   "outputs": [],
   "source": [
    "x_bounds = np.array([0,13])\n",
    "x_buffer = np.array([1,-1])\n",
    "\n",
    "y_bounds = np.array([0,16])\n",
    "y_buffer = np.array([1,-1])\n",
    "\n",
    "x_plot = x_bounds + x_buffer\n",
    "y_plot = y_bounds + y_buffer"
   ]
  },
  {
   "cell_type": "code",
   "execution_count": 41,
   "metadata": {},
   "outputs": [
    {
     "data": {
      "application/vnd.jupyter.widget-view+json": {
       "model_id": "bdbd86199b9a424581c3a565a638f75b",
       "version_major": 2,
       "version_minor": 0
      },
      "text/plain": [
       "interactive(children=(IntSlider(value=200, description='num_points', max=1000, min=10, step=10), FloatSlider(v…"
      ]
     },
     "metadata": {},
     "output_type": "display_data"
    }
   ],
   "source": [
    "def plotter_poly_art(num_points=200, perc_fill=0.3, n_fill_lines=4, min_scale=0.1, guides=False, refresh=False):\n",
    "    \n",
    "    x = np.random.uniform(low=0, high=1, size=num_points).reshape(num_points, 1)*x_bounds[1]\n",
    "    y = np.random.uniform(low=0, high=1, size=num_points).reshape(num_points, 1)*y_bounds[1]\n",
    "    pts = np.hstack([x, y])\n",
    "    \n",
    "    vor = Voronoi(pts)\n",
    "    verts = vor.vertices\n",
    "    shapes_ind = vor.regions\n",
    "\n",
    "    shapes_ind = [x + x[0:1] for i,x in enumerate(shapes_ind) if len(x) != 0 and -1 not in x]\n",
    "    shapes = [verts[x] for i,x in enumerate(shapes_ind)]\n",
    "    \n",
    "    color_index = np.linspace(0,1,len(shapes))\n",
    "    \n",
    "    total_polys = len(shapes)\n",
    "    filled_polys = int(perc_fill*total_polys)\n",
    "    polygon_ind = random.sample(range(total_polys), filled_polys)\n",
    "\n",
    "    for i in range(filled_polys):\n",
    "        polygon = shapes[polygon_ind[i]]\n",
    "    \n",
    "        center = np.mean(polygon, axis=0)\n",
    "        poly_center = polygon - center\n",
    "\n",
    "        for j in np.linspace(min_scale, 1, num=n_fill_lines):\n",
    "            scaled_poly = j*(poly_center)+center\n",
    "            shapes.append(scaled_poly)\n",
    "            color_index = np.append(color_index, color_index[i])\n",
    "\n",
    "    color_index = np.array(color_index)\n",
    "    fig, ax = plt.subplots(figsize=(10,10))\n",
    "\n",
    "    if not guides:\n",
    "        plt.grid(False)\n",
    "        plt.axis('off')\n",
    "   \n",
    "    ax.set_xlim(x_plot)\n",
    "    ax.set_ylim(y_plot)\n",
    "    lc = LineCollection(shapes, array=color_index, cmap=plt.cm.binary)\n",
    "    ax.add_collection(lc)\n",
    "    \n",
    "    return fig, ax\n",
    "\n",
    "slider = interactive(plotter_poly_art,\n",
    "                     num_points=(10,1000,10),\n",
    "                     perc_fill=(0,1,0.05),\n",
    "                     n_fill_lines=(1,50,1),\n",
    "                     min_scale=(0,2,0.01))\n",
    "display(slider)"
   ]
  },
  {
   "cell_type": "code",
   "execution_count": null,
   "metadata": {},
   "outputs": [],
   "source": []
  }
 ],
 "metadata": {
  "kernelspec": {
   "display_name": "Python 3 (ipykernel)",
   "language": "python",
   "name": "python3"
  },
  "language_info": {
   "codemirror_mode": {
    "name": "ipython",
    "version": 3
   },
   "file_extension": ".py",
   "mimetype": "text/x-python",
   "name": "python",
   "nbconvert_exporter": "python",
   "pygments_lexer": "ipython3",
   "version": "3.9.7"
  }
 },
 "nbformat": 4,
 "nbformat_minor": 1
}
