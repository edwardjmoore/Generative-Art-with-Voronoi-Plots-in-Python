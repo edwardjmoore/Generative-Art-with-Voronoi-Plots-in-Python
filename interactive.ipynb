{
 "cells": [
  {
   "cell_type": "code",
   "execution_count": 1,
   "metadata": {},
   "outputs": [
    {
     "name": "stdout",
     "output_type": "stream",
     "text": [
      "Enabling notebook extension jupyter-js-widgets/extension...\n",
      "      - Validating: \u001b[32mOK\u001b[0m\n",
      "Building jupyterlab assets (production, minimized)\n"
     ]
    }
   ],
   "source": [
    "import random\n",
    "import numpy as np\n",
    "from scipy.spatial import Voronoi, voronoi_plot_2d\n",
    "\n",
    "!jupyter nbextension enable --py widgetsnbextension\n",
    "!jupyter labextension install @jupyter-widgets/jupyterlab-manager\n",
    "\n",
    "import matplotlib.pyplot as plt\n",
    "from matplotlib.collections import LineCollection\n",
    "from matplotlib import colors as cc\n",
    "\n",
    "from ipywidgets import widgets\n",
    "from ipywidgets import interact, interact_manual, interactive"
   ]
  },
  {
   "cell_type": "code",
   "execution_count": 73,
   "metadata": {},
   "outputs": [],
   "source": [
    "x_bounds = np.array([0,13])\n",
    "x_buffer = np.array([2,-2])\n",
    "\n",
    "y_bounds = np.array([0,16])\n",
    "y_buffer = np.array([2,-2])\n",
    "\n",
    "x_plot = x_bounds + x_buffer\n",
    "y_plot = y_bounds + y_buffer"
   ]
  },
  {
   "cell_type": "code",
   "execution_count": 87,
   "metadata": {
    "scrolled": false
   },
   "outputs": [
    {
     "data": {
      "application/vnd.jupyter.widget-view+json": {
       "model_id": "757d08e0bb26436ab37e23bb2aa7360a",
       "version_major": 2,
       "version_minor": 0
      },
      "text/plain": [
       "interactive(children=(IntSlider(value=1000, description='num_points', max=2000, min=10, step=10), FloatSlider(…"
      ]
     },
     "metadata": {},
     "output_type": "display_data"
    }
   ],
   "source": [
    "def plotter_poly_art(num_points=1000, perc_fill=1, n_fill_lines=50, min_scale=0.1, guides=False):\n",
    "    \n",
    "    x = np.random.uniform(low=0, high=1, size=num_points).reshape(num_points, 1)*x_bounds[1]\n",
    "    y = np.random.uniform(low=0, high=1, size=num_points).reshape(num_points, 1)*y_bounds[1]\n",
    "    pts = np.hstack([x, y])\n",
    "    \n",
    "    vor = Voronoi(pts)\n",
    "    verts = vor.vertices\n",
    "    shapes_ind = vor.regions\n",
    "\n",
    "    shapes_ind = [x + x[0:1] for i,x in enumerate(shapes_ind) if len(x) != 0 and -1 not in x]\n",
    "    shapes = [verts[x] for i,x in enumerate(shapes_ind)]\n",
    "    \n",
    "    color_index = np.linspace(0,1,len(shapes))\n",
    "    \n",
    "    total_polys = len(shapes)\n",
    "    filled_polys = int(perc_fill*total_polys)\n",
    "    polygon_ind = random.sample(range(total_polys), filled_polys)\n",
    "\n",
    "    for i in range(filled_polys):\n",
    "        polygon = shapes[polygon_ind[i]]\n",
    "    \n",
    "        center = np.mean(polygon, axis=0)\n",
    "        poly_center = polygon - center\n",
    "\n",
    "        for j in np.linspace(min_scale, 1, num=n_fill_lines):\n",
    "            scaled_poly = j*(poly_center)+center\n",
    "            shapes.append(scaled_poly)\n",
    "            color_index = np.append(color_index, color_index[i])\n",
    "    \n",
    "    color_index = np.array(color_index)\n",
    "    \n",
    "    fig, ax = plt.subplots(figsize=(20,20), facecolor='white')\n",
    "\n",
    "    if not guides:\n",
    "        plt.grid(False)\n",
    "        plt.axis('off')\n",
    "   \n",
    "    ax.set_xlim(x_plot)\n",
    "    ax.set_ylim(y_plot)\n",
    "    # change colors by modifying the cmap reference below\n",
    "    lc = LineCollection(shapes, array=color_index, cmap=plt.cm.spring)\n",
    "    ax.add_collection(lc)\n",
    "    \n",
    "    return fig, ax\n",
    "\n",
    "slider = interactive(plotter_poly_art,\n",
    "                     num_points=(10,2000,10),\n",
    "                     perc_fill=(0,1,0.05),\n",
    "                     n_fill_lines=(1,50,1),\n",
    "                     min_scale=(0,1,0.01))\n",
    "display(slider)"
   ]
  },
  {
   "cell_type": "code",
   "execution_count": 89,
   "metadata": {},
   "outputs": [],
   "source": [
    "fig, ax = slider.result\n",
    "fig.savefig('voronoi_art_10.jpeg', bbox_inches = 'tight', pad_inches = 0.5)"
   ]
  },
  {
   "cell_type": "code",
   "execution_count": null,
   "metadata": {},
   "outputs": [],
   "source": []
  }
 ],
 "metadata": {
  "kernelspec": {
   "display_name": "Python 3 (ipykernel)",
   "language": "python",
   "name": "python3"
  },
  "language_info": {
   "codemirror_mode": {
    "name": "ipython",
    "version": 3
   },
   "file_extension": ".py",
   "mimetype": "text/x-python",
   "name": "python",
   "nbconvert_exporter": "python",
   "pygments_lexer": "ipython3",
   "version": "3.9.7"
  }
 },
 "nbformat": 4,
 "nbformat_minor": 1
}
